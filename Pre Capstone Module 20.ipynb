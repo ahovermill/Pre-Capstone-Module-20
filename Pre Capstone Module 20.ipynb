{
 "cells": [
  {
   "cell_type": "markdown",
   "metadata": {},
   "source": [
    "### CRISP-DM PHASE 1:  BUSINESS UNDERSTANDING \n",
    "\n",
    "### Business Problem: \n",
    "####  Are we collecting enough data to determine if National and State programs are adequately employing United States ‘veterans’ into the U.S. labor market? \n",
    "### Data Source: \n",
    "#### Data is based on U.S. Census Bureau Veteran Employment Outcome (VEO) Survey. This data is made available through the data sharing partnerships between the U.S. Army, U.S. Census Bureau, and State Labor Mark Information Offices. Data is available at both the state and national level. https://lehd.ces.census.gov/data/veo_experimental.html#tabulation-levels.  Several dataset are available; however, conducting an analysis on DoD Military Occoupational Code (MOS) to Industry Job mapping should show a trend on types of jobs servicemen and servicewomen held and length of employment. \n",
    "\n",
    "\n",
    "### Background:\n",
    "#### Experimental survey is based on data sourced from US Army records. These records are shared with the US Census Bureau for recently discharged enlisted Army Veterans. \n",
    "### Business Outcome:\n",
    "#### Identify trends and gaps in “Veteran” Labor Market by mapping and analyzing data from Army active duty discharged servicemen and servicewomen information to the national database of jobs. The timeframe of data collection is from 2000 and 2015. Data statistics for this Capstone include DoD Occupational Code/Specialization, Employer Industry Code, and veteran demographics (age and location).\n"
   ]
  },
  {
   "cell_type": "code",
   "execution_count": 41,
   "metadata": {},
   "outputs": [],
   "source": [
    "# Libraries are imported and aliased correctly\n",
    "import pandas as pd\n",
    "from sklearn.preprocessing import LabelEncoder\n",
    "from sklearn.preprocessing import StandardScaler\n",
    "from sklearn.model_selection import train_test_split\n",
    "from sklearn.linear_model import LogisticRegression\n",
    "import matplotlib.pyplot as plt\n",
    "import seaborn as sns\n",
    "\n",
    "from sklearn.neighbors import KNeighborsClassifier\n",
    "from sklearn.tree import DecisionTreeClassifier\n",
    "from sklearn.svm import SVC\n",
    "from sklearn.metrics import accuracy_score\n",
    "\n",
    "from sklearn.model_selection import GridSearchCV\n",
    "from sklearn.model_selection import cross_val_score\n",
    "from sklearn.metrics import classification_report,confusion_matrix\n",
    "from sklearn.metrics import accuracy_score, precision_score, recall_score, f1_score\n",
    "\n",
    "import time"
   ]
  },
  {
   "cell_type": "markdown",
   "metadata": {},
   "source": [
    "### CRISP-DM PHASE 2: DATA UNDERSTANDING (Exploratory Data Analysis)"
   ]
  },
  {
   "cell_type": "markdown",
   "metadata": {},
   "source": [
    "#### Several datasets are available from the Census Bureau. This dataset includes military occupation mapped to industry. "
   ]
  },
  {
   "cell_type": "code",
   "execution_count": 187,
   "metadata": {},
   "outputs": [
    {
     "name": "stdout",
     "output_type": "stream",
     "text": [
      "   Obs  cohort label_cohort  cohort_years dod_occ_code_level dod_occ_code  \\\n",
      "0    1       0    2000-2015            16                  A            0   \n",
      "1    2       0    2000-2015            16                  A            0   \n",
      "2    3       0    2000-2015            16                  A            0   \n",
      "3    4       0    2000-2015            16                  A            0   \n",
      "4    5       0    2000-2015            16                  A            0   \n",
      "\n",
      "  label_dod_occ_code ind_level industry  \\\n",
      "0    All occupations         A       00   \n",
      "1    All occupations         N       11   \n",
      "2    All occupations         N       21   \n",
      "3    All occupations         N       22   \n",
      "4    All occupations         N       23   \n",
      "\n",
      "                                  label_industry  ...  y10_p50_earnings  \\\n",
      "0                              All NAICS sectors  ...             52620   \n",
      "1     Agriculture, Forestry, Fishing and Hunting  ...             36290   \n",
      "2  Mining, Quarrying, and Oil and Gas Extraction  ...             81010   \n",
      "3                                      Utilities  ...             74440   \n",
      "4                                   Construction  ...             48430   \n",
      "\n",
      "  y1_p75_earnings y5_p75_earnings  y10_p75_earnings status_y1_emp  \\\n",
      "0           51030           65130             75520             1   \n",
      "1           36580           46210             47560             1   \n",
      "2           71520           93120            109000             1   \n",
      "3           58190           83140             97510             1   \n",
      "4           43170           57060             68970             1   \n",
      "\n",
      "  status_y5_emp  status_y10_emp status_y1_earn status_y5_earn  status_y10_earn  \n",
      "0             1               1              1              1                1  \n",
      "1             1               1              1              1                1  \n",
      "2             1               1              1              1                1  \n",
      "3             1               1              1              1                1  \n",
      "4             1               1              1              1                1  \n",
      "\n",
      "[5 rows x 28 columns]\n"
     ]
    }
   ],
   "source": [
    "# Load the dataset from a CSV file\n",
    "df = pd.read_excel('C:\\Berkeley ML_AI\\Module 20\\dod_to_industry.xlsx')\n",
    "\n",
    "# Display the first few rows of the dataset\n",
    "print(df.head())\n"
   ]
  },
  {
   "cell_type": "code",
   "execution_count": 188,
   "metadata": {},
   "outputs": [
    {
     "name": "stdout",
     "output_type": "stream",
     "text": [
      "<class 'pandas.core.frame.DataFrame'>\n",
      "RangeIndex: 660 entries, 0 to 659\n",
      "Data columns (total 28 columns):\n",
      " #   Column              Non-Null Count  Dtype \n",
      "---  ------              --------------  ----- \n",
      " 0   Obs                 660 non-null    int64 \n",
      " 1   cohort              660 non-null    int64 \n",
      " 2   label_cohort        660 non-null    object\n",
      " 3   cohort_years        660 non-null    int64 \n",
      " 4   dod_occ_code_level  660 non-null    object\n",
      " 5   dod_occ_code        660 non-null    object\n",
      " 6   label_dod_occ_code  660 non-null    object\n",
      " 7   ind_level           660 non-null    object\n",
      " 8   industry            660 non-null    object\n",
      " 9   label_industry      660 non-null    object\n",
      " 10  y1_emp              660 non-null    int64 \n",
      " 11  y5_emp              660 non-null    object\n",
      " 12  y10_emp             660 non-null    object\n",
      " 13  y1_p25_earnings     660 non-null    int64 \n",
      " 14  y5_p25_earnings     660 non-null    object\n",
      " 15  y10_p25_earnings    660 non-null    object\n",
      " 16  y1_p50_earnings     660 non-null    int64 \n",
      " 17  y5_p50_earnings     660 non-null    object\n",
      " 18  y10_p50_earnings    660 non-null    object\n",
      " 19  y1_p75_earnings     660 non-null    int64 \n",
      " 20  y5_p75_earnings     660 non-null    object\n",
      " 21  y10_p75_earnings    660 non-null    object\n",
      " 22  status_y1_emp       660 non-null    int64 \n",
      " 23  status_y5_emp       660 non-null    int64 \n",
      " 24  status_y10_emp      660 non-null    int64 \n",
      " 25  status_y1_earn      660 non-null    int64 \n",
      " 26  status_y5_earn      660 non-null    int64 \n",
      " 27  status_y10_earn     660 non-null    int64 \n",
      "dtypes: int64(13), object(15)\n",
      "memory usage: 144.5+ KB\n"
     ]
    }
   ],
   "source": [
    "# Looking at the dataframe's columns and Dtype\n",
    "df.info()"
   ]
  },
  {
   "cell_type": "code",
   "execution_count": 189,
   "metadata": {},
   "outputs": [
    {
     "data": {
      "text/html": [
       "<div>\n",
       "<style scoped>\n",
       "    .dataframe tbody tr th:only-of-type {\n",
       "        vertical-align: middle;\n",
       "    }\n",
       "\n",
       "    .dataframe tbody tr th {\n",
       "        vertical-align: top;\n",
       "    }\n",
       "\n",
       "    .dataframe thead th {\n",
       "        text-align: right;\n",
       "    }\n",
       "</style>\n",
       "<table border=\"1\" class=\"dataframe\">\n",
       "  <thead>\n",
       "    <tr style=\"text-align: right;\">\n",
       "      <th></th>\n",
       "      <th>cohort_years</th>\n",
       "      <th>label_cohort</th>\n",
       "      <th>dod_occ_code</th>\n",
       "      <th>label_industry</th>\n",
       "      <th>industry</th>\n",
       "      <th>y1_emp</th>\n",
       "      <th>y5_emp</th>\n",
       "      <th>y10_emp</th>\n",
       "    </tr>\n",
       "  </thead>\n",
       "  <tbody>\n",
       "    <tr>\n",
       "      <th>0</th>\n",
       "      <td>16</td>\n",
       "      <td>2000-2015</td>\n",
       "      <td>0</td>\n",
       "      <td>All NAICS sectors</td>\n",
       "      <td>00</td>\n",
       "      <td>312300</td>\n",
       "      <td>262900</td>\n",
       "      <td>155000</td>\n",
       "    </tr>\n",
       "    <tr>\n",
       "      <th>1</th>\n",
       "      <td>16</td>\n",
       "      <td>2000-2015</td>\n",
       "      <td>0</td>\n",
       "      <td>Agriculture, Forestry, Fishing and Hunting</td>\n",
       "      <td>11</td>\n",
       "      <td>1088</td>\n",
       "      <td>671.5</td>\n",
       "      <td>400</td>\n",
       "    </tr>\n",
       "    <tr>\n",
       "      <th>2</th>\n",
       "      <td>16</td>\n",
       "      <td>2000-2015</td>\n",
       "      <td>0</td>\n",
       "      <td>Mining, Quarrying, and Oil and Gas Extraction</td>\n",
       "      <td>21</td>\n",
       "      <td>4997</td>\n",
       "      <td>3611</td>\n",
       "      <td>2219</td>\n",
       "    </tr>\n",
       "    <tr>\n",
       "      <th>3</th>\n",
       "      <td>16</td>\n",
       "      <td>2000-2015</td>\n",
       "      <td>0</td>\n",
       "      <td>Utilities</td>\n",
       "      <td>22</td>\n",
       "      <td>1492</td>\n",
       "      <td>1892</td>\n",
       "      <td>1420</td>\n",
       "    </tr>\n",
       "    <tr>\n",
       "      <th>4</th>\n",
       "      <td>16</td>\n",
       "      <td>2000-2015</td>\n",
       "      <td>0</td>\n",
       "      <td>Construction</td>\n",
       "      <td>23</td>\n",
       "      <td>20720</td>\n",
       "      <td>14710</td>\n",
       "      <td>7554</td>\n",
       "    </tr>\n",
       "  </tbody>\n",
       "</table>\n",
       "</div>"
      ],
      "text/plain": [
       "   cohort_years label_cohort dod_occ_code  \\\n",
       "0            16    2000-2015            0   \n",
       "1            16    2000-2015            0   \n",
       "2            16    2000-2015            0   \n",
       "3            16    2000-2015            0   \n",
       "4            16    2000-2015            0   \n",
       "\n",
       "                                  label_industry industry  y1_emp  y5_emp  \\\n",
       "0                              All NAICS sectors       00  312300  262900   \n",
       "1     Agriculture, Forestry, Fishing and Hunting       11    1088   671.5   \n",
       "2  Mining, Quarrying, and Oil and Gas Extraction       21    4997    3611   \n",
       "3                                      Utilities       22    1492    1892   \n",
       "4                                   Construction       23   20720   14710   \n",
       "\n",
       "  y10_emp  \n",
       "0  155000  \n",
       "1     400  \n",
       "2    2219  \n",
       "3    1420  \n",
       "4    7554  "
      ]
     },
     "execution_count": 189,
     "metadata": {},
     "output_type": "execute_result"
    }
   ],
   "source": [
    "# Creating new dataframe with only columns specified\n",
    "new_df = df[['cohort_years', 'label_cohort','dod_occ_code', 'label_industry', 'industry', 'y1_emp', 'y5_emp', 'y10_emp']]\n",
    "new_df.head()\n"
   ]
  },
  {
   "cell_type": "code",
   "execution_count": 190,
   "metadata": {},
   "outputs": [
    {
     "name": "stdout",
     "output_type": "stream",
     "text": [
      "<class 'pandas.core.frame.DataFrame'>\n",
      "RangeIndex: 660 entries, 0 to 659\n",
      "Data columns (total 8 columns):\n",
      " #   Column          Non-Null Count  Dtype \n",
      "---  ------          --------------  ----- \n",
      " 0   cohort_years    660 non-null    int64 \n",
      " 1   label_cohort    660 non-null    object\n",
      " 2   dod_occ_code    660 non-null    object\n",
      " 3   label_industry  660 non-null    object\n",
      " 4   industry        660 non-null    object\n",
      " 5   y1_emp          660 non-null    int64 \n",
      " 6   y5_emp          660 non-null    object\n",
      " 7   y10_emp         660 non-null    object\n",
      "dtypes: int64(2), object(6)\n",
      "memory usage: 41.4+ KB\n"
     ]
    }
   ],
   "source": [
    "# Obtain information on new dataframe\n",
    "new_df.info()"
   ]
  },
  {
   "cell_type": "code",
   "execution_count": 191,
   "metadata": {},
   "outputs": [
    {
     "name": "stdout",
     "output_type": "stream",
     "text": [
      "['2000-2015' '2000-2007' '2008-2015']\n"
     ]
    }
   ],
   "source": [
    "## Looking at unique values\n",
    "unique_values = new_df['label_cohort'].unique()\n",
    "print(unique_values)\n"
   ]
  },
  {
   "cell_type": "code",
   "execution_count": 192,
   "metadata": {},
   "outputs": [
    {
     "data": {
      "text/plain": [
       "cohort_years      0\n",
       "label_cohort      0\n",
       "dod_occ_code      0\n",
       "label_industry    0\n",
       "industry          0\n",
       "y1_emp            0\n",
       "y5_emp            0\n",
       "y10_emp           0\n",
       "dtype: int64"
      ]
     },
     "execution_count": 192,
     "metadata": {},
     "output_type": "execute_result"
    }
   ],
   "source": [
    "# Finding missing values\n",
    "new_df.isnull().sum()"
   ]
  },
  {
   "cell_type": "code",
   "execution_count": 193,
   "metadata": {},
   "outputs": [
    {
     "data": {
      "text/plain": [
       "<Axes: ylabel='Frequency'>"
      ]
     },
     "execution_count": 193,
     "metadata": {},
     "output_type": "execute_result"
    },
    {
     "data": {
      "image/png": "[encoded data removed]",
      "text/plain": [
       "<Figure size 640x480 with 1 Axes>"
      ]
     },
     "metadata": {},
     "output_type": "display_data"
    }
   ],
   "source": [
    "## Looking at distribution of dataframe\n",
    "new_df.plot(kind='hist')\n"
   ]
  },
  {
   "cell_type": "code",
   "execution_count": 194,
   "metadata": {},
   "outputs": [
    {
     "name": "stdout",
     "output_type": "stream",
     "text": [
      "['All NAICS sectors' 'Agriculture, Forestry, Fishing and Hunting'\n",
      " 'Mining, Quarrying, and Oil and Gas Extraction' 'Utilities'\n",
      " 'Construction' 'Manufacturing' 'Wholesale Trade' 'Retail Trade'\n",
      " 'Transportation and Warehousing' 'Information' 'Finance and Insurance'\n",
      " 'Real Estate and Rental and Leasing'\n",
      " 'Professional, Scientific, and Technical Services'\n",
      " 'Management of Companies and Enterprises'\n",
      " 'Administrative and Support and Waste\\nManagement and Remediation Services'\n",
      " 'Educational Services' 'Health Care and Social Assistance'\n",
      " 'Arts, Entertainment, and Recreation' 'Accommodation and Food Services'\n",
      " 'Other Services (except Public Administration)' 'Public Administration'\n",
      " 'Federal Government']\n"
     ]
    }
   ],
   "source": [
    "# Obtain the unique values of the 'label_industry' column\n",
    "unique_values = new_df['label_industry'].unique()\n",
    "print(unique_values)"
   ]
  },
  {
   "cell_type": "code",
   "execution_count": 195,
   "metadata": {},
   "outputs": [
    {
     "name": "stdout",
     "output_type": "stream",
     "text": [
      "['00' '11' '21' '22' '23' '31-33' '42' '44-45' '48-49' '51' '52' '53' '54'\n",
      " '55' '56' '61' '62' '71' '72' '81' '92' '99']\n"
     ]
    }
   ],
   "source": [
    "# Obtain the unique values of the 'industry' column\n",
    "unique_values = new_df['industry'].unique()\n",
    "print(unique_values)"
   ]
  },
  {
   "cell_type": "code",
   "execution_count": 196,
   "metadata": {},
   "outputs": [
    {
     "name": "stdout",
     "output_type": "stream",
     "text": [
      "[0 '10X' '11X' '12X' '13X' '14X' '15X' '16X' '17X' '18X']\n"
     ]
    }
   ],
   "source": [
    "# Obtain unique values on the 'dod_occ_code' column\n",
    "unique_values = new_df['dod_occ_code'].unique()\n",
    "print(unique_values)\n"
   ]
  },
  {
   "cell_type": "markdown",
   "metadata": {},
   "source": [
    "## CRISP-DM PHASE 3: DATA PREPARATION"
   ]
  },
  {
   "cell_type": "code",
   "execution_count": 198,
   "metadata": {},
   "outputs": [
    {
     "name": "stdout",
     "output_type": "stream",
     "text": [
      "<class 'pandas.core.frame.DataFrame'>\n",
      "RangeIndex: 660 entries, 0 to 659\n",
      "Data columns (total 8 columns):\n",
      " #   Column          Non-Null Count  Dtype \n",
      "---  ------          --------------  ----- \n",
      " 0   cohort_years    660 non-null    int64 \n",
      " 1   label_cohort    660 non-null    object\n",
      " 2   dod_occ_code    660 non-null    object\n",
      " 3   label_industry  660 non-null    object\n",
      " 4   industry        660 non-null    object\n",
      " 5   y1_emp          660 non-null    int64 \n",
      " 6   y5_emp          660 non-null    object\n",
      " 7   y10_emp         660 non-null    object\n",
      "dtypes: int64(2), object(6)\n",
      "memory usage: 41.4+ KB\n"
     ]
    },
    {
     "name": "stderr",
     "output_type": "stream",
     "text": [
      "C:\\Users\\ahove\\AppData\\Local\\Temp\\ipykernel_24516\\1111976706.py:2: SettingWithCopyWarning: \n",
      "A value is trying to be set on a copy of a slice from a DataFrame.\n",
      "Try using .loc[row_indexer,col_indexer] = value instead\n",
      "\n",
      "See the caveats in the documentation: https://pandas.pydata.org/pandas-docs/stable/user_guide/indexing.html#returning-a-view-versus-a-copy\n",
      "  new_df['industry'] = new_df['industry'].replace({'31-33': '31', '44-45': '44', '48-49': '48'})\n",
      "C:\\Users\\ahove\\AppData\\Local\\Temp\\ipykernel_24516\\1111976706.py:5: SettingWithCopyWarning: \n",
      "A value is trying to be set on a copy of a slice from a DataFrame.\n",
      "Try using .loc[row_indexer,col_indexer] = value instead\n",
      "\n",
      "See the caveats in the documentation: https://pandas.pydata.org/pandas-docs/stable/user_guide/indexing.html#returning-a-view-versus-a-copy\n",
      "  new_df['dod_occ_code'] = new_df['dod_occ_code'].replace({'0':'99',  '10X': '10', '11X': '11', '12X': '12', '13X': '13', '14X': '14', '15X': '15', '16X': '16', '17X': '17', '18X': '18'})\n"
     ]
    }
   ],
   "source": [
    "# Replace values in the 'industry' column of new_df\n",
    "new_df['industry'] = new_df['industry'].replace({'31-33': '31', '44-45': '44', '48-49': '48'})\n",
    "\n",
    "## Replacing with numerical values in the dod_occ_code column\n",
    "new_df['dod_occ_code'] = new_df['dod_occ_code'].replace({'0':'99',  '10X': '10', '11X': '11', '12X': '12', '13X': '13', '14X': '14', '15X': '15', '16X': '16', '17X': '17', '18X': '18'})\n",
    "\n",
    "new_df.info()"
   ]
  },
  {
   "cell_type": "code",
   "execution_count": 199,
   "metadata": {},
   "outputs": [
    {
     "data": {
      "text/html": [
       "<div>\n",
       "<style scoped>\n",
       "    .dataframe tbody tr th:only-of-type {\n",
       "        vertical-align: middle;\n",
       "    }\n",
       "\n",
       "    .dataframe tbody tr th {\n",
       "        vertical-align: top;\n",
       "    }\n",
       "\n",
       "    .dataframe thead th {\n",
       "        text-align: right;\n",
       "    }\n",
       "</style>\n",
       "<table border=\"1\" class=\"dataframe\">\n",
       "  <thead>\n",
       "    <tr style=\"text-align: right;\">\n",
       "      <th></th>\n",
       "      <th>cohort_years</th>\n",
       "      <th>label_cohort</th>\n",
       "      <th>dod_occ_code</th>\n",
       "      <th>label_industry</th>\n",
       "      <th>industry</th>\n",
       "      <th>y1_emp</th>\n",
       "      <th>y5_emp</th>\n",
       "      <th>y10_emp</th>\n",
       "    </tr>\n",
       "  </thead>\n",
       "  <tbody>\n",
       "    <tr>\n",
       "      <th>655</th>\n",
       "      <td>8</td>\n",
       "      <td>2008-2015</td>\n",
       "      <td>18</td>\n",
       "      <td>Arts, Entertainment, and Recreation</td>\n",
       "      <td>71</td>\n",
       "      <td>218</td>\n",
       "      <td>100</td>\n",
       "      <td>.</td>\n",
       "    </tr>\n",
       "    <tr>\n",
       "      <th>656</th>\n",
       "      <td>8</td>\n",
       "      <td>2008-2015</td>\n",
       "      <td>18</td>\n",
       "      <td>Accommodation and Food Services</td>\n",
       "      <td>72</td>\n",
       "      <td>862</td>\n",
       "      <td>362</td>\n",
       "      <td>.</td>\n",
       "    </tr>\n",
       "    <tr>\n",
       "      <th>657</th>\n",
       "      <td>8</td>\n",
       "      <td>2008-2015</td>\n",
       "      <td>18</td>\n",
       "      <td>Other Services (except Public Administration)</td>\n",
       "      <td>81</td>\n",
       "      <td>325</td>\n",
       "      <td>148</td>\n",
       "      <td>.</td>\n",
       "    </tr>\n",
       "    <tr>\n",
       "      <th>658</th>\n",
       "      <td>8</td>\n",
       "      <td>2008-2015</td>\n",
       "      <td>18</td>\n",
       "      <td>Public Administration</td>\n",
       "      <td>92</td>\n",
       "      <td>1604</td>\n",
       "      <td>848</td>\n",
       "      <td>.</td>\n",
       "    </tr>\n",
       "    <tr>\n",
       "      <th>659</th>\n",
       "      <td>8</td>\n",
       "      <td>2008-2015</td>\n",
       "      <td>18</td>\n",
       "      <td>Federal Government</td>\n",
       "      <td>99</td>\n",
       "      <td>1963</td>\n",
       "      <td>1523</td>\n",
       "      <td>.</td>\n",
       "    </tr>\n",
       "  </tbody>\n",
       "</table>\n",
       "</div>"
      ],
      "text/plain": [
       "     cohort_years label_cohort dod_occ_code  \\\n",
       "655             8    2008-2015           18   \n",
       "656             8    2008-2015           18   \n",
       "657             8    2008-2015           18   \n",
       "658             8    2008-2015           18   \n",
       "659             8    2008-2015           18   \n",
       "\n",
       "                                    label_industry industry  y1_emp y5_emp  \\\n",
       "655            Arts, Entertainment, and Recreation       71     218    100   \n",
       "656                Accommodation and Food Services       72     862    362   \n",
       "657  Other Services (except Public Administration)       81     325    148   \n",
       "658                          Public Administration       92    1604    848   \n",
       "659                             Federal Government       99    1963   1523   \n",
       "\n",
       "    y10_emp  \n",
       "655       .  \n",
       "656       .  \n",
       "657       .  \n",
       "658       .  \n",
       "659       .  "
      ]
     },
     "execution_count": 199,
     "metadata": {},
     "output_type": "execute_result"
    }
   ],
   "source": [
    "new_df.tail()"
   ]
  },
  {
   "cell_type": "code",
   "execution_count": 200,
   "metadata": {},
   "outputs": [
    {
     "data": {
      "image/png": "[encoded data removed]",
      "text/plain": [
       "<Figure size 800x600 with 2 Axes>"
      ]
     },
     "metadata": {},
     "output_type": "display_data"
    }
   ],
   "source": [
    "# Plot correlation between dod_occ_code and industry\n",
    "plt.figure(figsize=(8, 6))\n",
    "sns.heatmap(correlation_matrix[['dod_occ_code', 'industry']], annot=True, cmap='coolwarm')\n",
    "plt.title('Correlation between dod_occ_code and industry')\n",
    "plt.show()\n",
    "\n"
   ]
  },
  {
   "cell_type": "code",
   "execution_count": 201,
   "metadata": {},
   "outputs": [],
   "source": [
    "## Dropping NaN values\n",
    "new_df = new_df.dropna()\n"
   ]
  },
  {
   "cell_type": "code",
   "execution_count": 202,
   "metadata": {},
   "outputs": [
    {
     "data": {
      "text/html": [
       "<div>\n",
       "<style scoped>\n",
       "    .dataframe tbody tr th:only-of-type {\n",
       "        vertical-align: middle;\n",
       "    }\n",
       "\n",
       "    .dataframe tbody tr th {\n",
       "        vertical-align: top;\n",
       "    }\n",
       "\n",
       "    .dataframe thead th {\n",
       "        text-align: right;\n",
       "    }\n",
       "</style>\n",
       "<table border=\"1\" class=\"dataframe\">\n",
       "  <thead>\n",
       "    <tr style=\"text-align: right;\">\n",
       "      <th></th>\n",
       "      <th>cohort_years</th>\n",
       "      <th>dod_occ_code</th>\n",
       "      <th>industry</th>\n",
       "    </tr>\n",
       "  </thead>\n",
       "  <tbody>\n",
       "    <tr>\n",
       "      <th>0</th>\n",
       "      <td>16</td>\n",
       "      <td>0</td>\n",
       "      <td>00</td>\n",
       "    </tr>\n",
       "    <tr>\n",
       "      <th>1</th>\n",
       "      <td>16</td>\n",
       "      <td>0</td>\n",
       "      <td>11</td>\n",
       "    </tr>\n",
       "    <tr>\n",
       "      <th>2</th>\n",
       "      <td>16</td>\n",
       "      <td>0</td>\n",
       "      <td>21</td>\n",
       "    </tr>\n",
       "    <tr>\n",
       "      <th>3</th>\n",
       "      <td>16</td>\n",
       "      <td>0</td>\n",
       "      <td>22</td>\n",
       "    </tr>\n",
       "    <tr>\n",
       "      <th>4</th>\n",
       "      <td>16</td>\n",
       "      <td>0</td>\n",
       "      <td>23</td>\n",
       "    </tr>\n",
       "  </tbody>\n",
       "</table>\n",
       "</div>"
      ],
      "text/plain": [
       "   cohort_years dod_occ_code industry\n",
       "0            16            0       00\n",
       "1            16            0       11\n",
       "2            16            0       21\n",
       "3            16            0       22\n",
       "4            16            0       23"
      ]
     },
     "execution_count": 202,
     "metadata": {},
     "output_type": "execute_result"
    }
   ],
   "source": [
    "## Creating a new dataframe and only looking at certain columns\n",
    "new_df_1 = new_df[['cohort_years', 'dod_occ_code', 'industry', 'y1_emp']]\n",
    "\n",
    "# Set trarget variable\n",
    "y = new_df_1['y1_emp']\n",
    "\n",
    "# Set features\n",
    "X = new_df_1[['cohort_years', 'dod_occ_code', 'industry']]\n",
    "X.head()\n"
   ]
  },
  {
   "cell_type": "code",
   "execution_count": 203,
   "metadata": {},
   "outputs": [
    {
     "name": "stdout",
     "output_type": "stream",
     "text": [
      "[312300   1088   4997   1492  20720  29810  14070  30310  19350   8326\n",
      "   5384   4525  35540   2916  41020   8812  14820   2955  10520   7501\n",
      "  19830  28220  87590    410   1899    524   8533   9931   4133  10040\n",
      "   4736   1586   1345   1349   6505    735  13140   2495   2638   1018\n",
      "   3448   2078   6726   4323  19340      0    234     94   1308   1915\n",
      "    887   1499    697   2036    290    224   3863    236   2268    426\n",
      "    473    138    518    398    686   1125  37850    106    496    171\n",
      "   2251   3008   1382   3414   1483   1556    767    420   9039    437\n",
      "   4670    929    940    367   1285    619   2075   2452  12150    101\n",
      "    378    696    363    816    139    190    130    104   1021    345\n",
      "   2682     82    201    506   2646   5971     50    286    364    175\n",
      "    546    195    167    119     53   1106     74    772    327    199\n",
      "     86    173     91    353    762  46280     68    332    121   1353\n",
      "   3041   1562   3752   2368   1258    556   7407    483   5798   2020\n",
      "   1927    301   1113    831   2472   8123  49900    239   1009    216\n",
      "   2998   6063   3332   5397   5448    863    497   1056   4139    444\n",
      "   5550   1042   2582    341   1080   2304   2053   3214  12910    210\n",
      "    105   1440   1291    492   1034    635    176    182    193    662\n",
      "     81   1618    305   1717    350    230    726   1296  40270    657\n",
      "    219   2190   3495   1743   3803   3392    676    535   1921    307\n",
      "   6184    933   1644    498   2170    728   4239   4253 182800    491\n",
      "   1995    857  12370  17620   8439  19160  11230   5744   3451   2815\n",
      "  18510   1676  23630   5436   9397   1766   6385   4580  12090  15210\n",
      "  51170  11640  21590   3755   3977  28170  30860   9215  22450 129400\n",
      "    578   2993    671   8363  12180   5630  11140   8103   2593   1968\n",
      "   1701  17020   1225  17390   3386   5405   1171   4115   2900   7746\n",
      "  12980  36440   7698  16290   8391   1971  18100  19020   3684  17820\n",
      "    202    789    293   5165   5870   2430   6436   2864    825    842\n",
      "   3179    409   7347   1503   1606    628   2133   1223   4036   2355\n",
      "    120    897   1194    580    979    415   1444    181    146   2015\n",
      "    161   1306    256    288     90    235    417    593    184     76\n",
      "   1314   1754    811   2163    898   1162    466    245   4619    242\n",
      "   2629    526    757    368   1179   1369    132    323    147    295\n",
      "     62     51    325    313     98    678     77    168    663    179\n",
      "    268    136    419    131    129     79     55    541    151    113\n",
      "    231    812   1868    986   2503   1459    859    392   4100    299\n",
      "   3578   1340   1288    197    693    567   1584   4487    123    424\n",
      "   1867   3584   2110   3474   3248    582    636   2150    263   3336\n",
      "    656   2229    213    698   2018     66    864    795    316    724\n",
      "    344    125    140    472     58   1150    238     92    275    154\n",
      "   1029    223    134   1146   1940    936   2199   1690    355    317\n",
      "    975    166   3432    555    997    291   1304    403   2644   2281\n",
      "    225   1119    243   3380   4049   1709   3610   1872    542    517\n",
      "    499   3329    326   5790    987   1010    401   1318    835   2684\n",
      "    406    731    312    514    592    112     69   1853     61    966\n",
      "    163    191     54    162    269     72    306     84    923   1249\n",
      "    558   1264    596    389    303   4416    212   2038    369    902\n",
      "   1099     75    237    538    194     87     71    721   2007    260\n",
      "   2003    108     93     67     63    445    102    311    196    523\n",
      "   1174    581   1251    896    418    170   3308   2228    683    653\n",
      "    124    412    277    873   3638    589     89   1149   2473   1247\n",
      "   1925   2193    284    164   1983    172   2211    385    362    135\n",
      "    805    760   1200    107    178    315    285    471     88    204\n",
      "    259     73    430    801   1600   1711    152   2747    372    666\n",
      "    218    862   1604   1963]\n"
     ]
    }
   ],
   "source": [
    "# Obtain the unique values of the 'y1_emp' column\n",
    "unique_values = new_df_1['y1_emp'].unique()\n",
    "print(unique_values)"
   ]
  },
  {
   "cell_type": "code",
   "execution_count": 204,
   "metadata": {},
   "outputs": [
    {
     "name": "stderr",
     "output_type": "stream",
     "text": [
      "C:\\Users\\ahove\\AppData\\Local\\Temp\\ipykernel_24516\\2237500939.py:7: SettingWithCopyWarning: \n",
      "A value is trying to be set on a copy of a slice from a DataFrame.\n",
      "Try using .loc[row_indexer,col_indexer] = value instead\n",
      "\n",
      "See the caveats in the documentation: https://pandas.pydata.org/pandas-docs/stable/user_guide/indexing.html#returning-a-view-versus-a-copy\n",
      "  new_df_1['y1_emp'] = scaler.fit_transform(new_df_1[['y1_emp']])\n"
     ]
    }
   ],
   "source": [
    "from sklearn.preprocessing import StandardScaler\n",
    "\n",
    "# Create an instance of the StandardScaler\n",
    "scaler = StandardScaler()\n",
    "\n",
    "# Normalize the 'y1_emp' column\n",
    "new_df_1['y1_emp'] = scaler.fit_transform(new_df_1[['y1_emp']])\n"
   ]
  },
  {
   "cell_type": "code",
   "execution_count": 205,
   "metadata": {},
   "outputs": [],
   "source": [
    "# Split the data into train and test sets (70% train, 30% test)\n",
    "X_train, X_test, y_train, y_test = train_test_split(X, y, test_size=0.3, random_state=42)\n",
    "\n",
    "# Standardize the data\n",
    "scaler = StandardScaler()\n",
    "X_train = scaler.fit_transform(X_train)\n",
    "X_test = scaler.transform(X_test)"
   ]
  },
  {
   "cell_type": "code",
   "execution_count": 206,
   "metadata": {},
   "outputs": [
    {
     "name": "stdout",
     "output_type": "stream",
     "text": [
      "Training set shape: (462, 3) (462,)\n",
      "Test set shape: (198, 3) (198,)\n",
      "Training set class distribution:\n",
      "y1_emp\n",
      "0       0.062771\n",
      "91      0.010823\n",
      "933     0.006494\n",
      "424     0.006494\n",
      "556     0.006494\n",
      "          ...   \n",
      "693     0.002165\n",
      "1925    0.002165\n",
      "259     0.002165\n",
      "1308    0.002165\n",
      "1021    0.002165\n",
      "Name: proportion, Length: 396, dtype: float64\n",
      "\n",
      "Test set class distribution:\n",
      "y1_emp\n",
      "0        0.070707\n",
      "201      0.010101\n",
      "293      0.010101\n",
      "224      0.010101\n",
      "125      0.010101\n",
      "           ...   \n",
      "3638     0.005051\n",
      "678      0.005051\n",
      "473      0.005051\n",
      "46280    0.005051\n",
      "178      0.005051\n",
      "Name: proportion, Length: 178, dtype: float64\n"
     ]
    }
   ],
   "source": [
    "# Print the shape of the training and test sets\n",
    "print(\"Training set shape:\", X_train.shape, y_train.shape)\n",
    "print(\"Test set shape:\", X_test.shape, y_test.shape)\n",
    "\n",
    "# Print the class distribution in the training and test sets\n",
    "print(\"Training set class distribution:\")\n",
    "print(y_train.value_counts(normalize=True))\n",
    "print()\n",
    "print(\"Test set class distribution:\")\n",
    "print(y_test.value_counts(normalize=True))\n"
   ]
  },
  {
   "cell_type": "markdown",
   "metadata": {},
   "source": [
    "## CRISP-DM PHASE 4: DATA MODELING"
   ]
  },
  {
   "cell_type": "markdown",
   "metadata": {},
   "source": [
    "#### Building a Baseline Model to compare performance metrics"
   ]
  },
  {
   "cell_type": "code",
   "execution_count": 207,
   "metadata": {},
   "outputs": [
    {
     "name": "stdout",
     "output_type": "stream",
     "text": [
      "Baseline Accuracy: 0.06277056277056277\n"
     ]
    }
   ],
   "source": [
    "# Establishing a baseline accuracy for model comparison and evaluation\n",
    "baseline_accuracy = y_train.value_counts(normalize=True).max()\n",
    "print(\"Baseline Accuracy:\", baseline_accuracy)\n"
   ]
  },
  {
   "cell_type": "code",
   "execution_count": 208,
   "metadata": {},
   "outputs": [
    {
     "name": "stdout",
     "output_type": "stream",
     "text": [
      "LogisticRegression()\n"
     ]
    },
    {
     "name": "stderr",
     "output_type": "stream",
     "text": [
      "c:\\Users\\ahove\\anaconda3\\Lib\\site-packages\\sklearn\\linear_model\\_logistic.py:460: ConvergenceWarning: lbfgs failed to converge (status=1):\n",
      "STOP: TOTAL NO. of ITERATIONS REACHED LIMIT.\n",
      "\n",
      "Increase the number of iterations (max_iter) or scale the data as shown in:\n",
      "    https://scikit-learn.org/stable/modules/preprocessing.html\n",
      "Please also refer to the documentation for alternative solver options:\n",
      "    https://scikit-learn.org/stable/modules/linear_model.html#logistic-regression\n",
      "  n_iter_i = _check_optimize_result(\n"
     ]
    }
   ],
   "source": [
    "# Create an instance of the LogisticRegression model\n",
    "logreg = LogisticRegression()\n",
    "\n",
    "# Fit the model to the data\n",
    "logreg.fit(X, y)\n",
    "\n",
    "# Print the pipeline \n",
    "print(logreg)"
   ]
  },
  {
   "cell_type": "code",
   "execution_count": 209,
   "metadata": {},
   "outputs": [
    {
     "name": "stdout",
     "output_type": "stream",
     "text": [
      "Model Accuracy: 0.08787878787878788\n"
     ]
    }
   ],
   "source": [
    "accuracy = logreg.score(X, y)\n",
    "print(\"Model Accuracy:\", accuracy)"
   ]
  },
  {
   "cell_type": "markdown",
   "metadata": {},
   "source": [
    "Comparing baseline accuracy and model accuracy"
   ]
  },
  {
   "cell_type": "code",
   "execution_count": 210,
   "metadata": {},
   "outputs": [
    {
     "name": "stdout",
     "output_type": "stream",
     "text": [
      "          Accuracy\n",
      "Baseline  0.062771\n",
      "Model     0.087879\n"
     ]
    }
   ],
   "source": [
    "baseline_accuracy = y_train.value_counts(normalize=True).max()\n",
    "model_accuracy = logreg.score(X, y)\n",
    "\n",
    "comparison = pd.DataFrame({'Accuracy': [baseline_accuracy, model_accuracy]}, index=['Baseline', 'Model'])\n",
    "print(comparison)\n",
    "\n"
   ]
  },
  {
   "cell_type": "code",
   "execution_count": 211,
   "metadata": {},
   "outputs": [
    {
     "data": {
      "image/png": "[encoded data removed]",
      "text/plain": [
       "<Figure size 640x480 with 1 Axes>"
      ]
     },
     "metadata": {},
     "output_type": "display_data"
    }
   ],
   "source": [
    "# Plot the accuracy using seaborn\n",
    "sns.barplot(x=comparison.index, y=comparison['Accuracy'])\n",
    "plt.title('Baseline vs Model Accuracy')\n",
    "plt.xlabel('Accuracy Type')\n",
    "plt.ylabel('Accuracy')\n",
    "plt.show()\n"
   ]
  },
  {
   "cell_type": "markdown",
   "metadata": {},
   "source": [
    "## CRISP-DM PHASE 5: MODEL EVALUATION"
   ]
  },
  {
   "cell_type": "code",
   "execution_count": null,
   "metadata": {},
   "outputs": [],
   "source": [
    "### Modeling\n",
    "# Use of four classifier models (kNN, Decision Trees, Logistic Regression, and SVM)\n",
    "# Clear identification of evaluation metrics\n",
    "# Appropriate interpretation of evaluation metrics\n",
    "# Clear rationale for use of the evaluation metrics\n",
    "# Appropriate comparison of the four models"
   ]
  },
  {
   "cell_type": "markdown",
   "metadata": {},
   "source": [
    "#### Comparing each model's accuracy score"
   ]
  },
  {
   "cell_type": "code",
   "execution_count": 212,
   "metadata": {},
   "outputs": [
    {
     "name": "stdout",
     "output_type": "stream",
     "text": [
      "                     Train Accuracy  Test Accuracy\n",
      "Model                                             \n",
      "Logistic Regression        0.090909       0.060606\n",
      "KNN                        0.192641       0.045455\n",
      "Decision Tree              0.759740       0.030303\n",
      "SVM                        0.138528       0.070707\n",
      "Best Model: SVM\n"
     ]
    }
   ],
   "source": [
    "# Create a list of model names and models\n",
    "model_names = ['Logistic Regression', 'KNN', 'Decision Tree', 'SVM']\n",
    "models = [\n",
    "    LogisticRegression(),\n",
    "    KNeighborsClassifier(),\n",
    "    DecisionTreeClassifier(),\n",
    "    SVC()\n",
    "]\n",
    "\n",
    "# Create empty lists to store the results\n",
    "train_scores = []\n",
    "test_scores = []\n",
    "\n",
    "# Iterate over each model\n",
    "for model in models:\n",
    "    # Fit the model to the training data\n",
    "    model.fit(X_train, y_train)\n",
    "    \n",
    "    # Calculate the accuracy scores for training and test data\n",
    "    train_score = model.score(X_train, y_train)\n",
    "    test_score = model.score(X_test, y_test)\n",
    "    \n",
    "    # Append the scores to the lists\n",
    "    train_scores.append(train_score)\n",
    "    test_scores.append(test_score)\n",
    "\n",
    "# Create a dataframe to compare the models\n",
    "results = pd.DataFrame({'Model': model_names, 'Train Accuracy': train_scores, 'Test Accuracy': test_scores})\n",
    "results = results.set_index('Model')\n",
    "\n",
    "# Print the dataframe\n",
    "print(results)\n",
    "\n",
    "# Determine the best model based on the test accuracy\n",
    "best_model = results['Test Accuracy'].idxmax()\n",
    "print(f\"Best Model: {best_model}\")\n"
   ]
  },
  {
   "cell_type": "markdown",
   "metadata": {},
   "source": [
    "#### Conducting Grid Search on Hyperparmeters on Best Model"
   ]
  },
  {
   "cell_type": "code",
   "execution_count": 213,
   "metadata": {},
   "outputs": [
    {
     "name": "stderr",
     "output_type": "stream",
     "text": [
      "c:\\Users\\ahove\\anaconda3\\Lib\\site-packages\\sklearn\\model_selection\\_split.py:725: UserWarning: The least populated class in y has only 1 members, which is less than n_splits=5.\n",
      "  warnings.warn(\n",
      "c:\\Users\\ahove\\anaconda3\\Lib\\site-packages\\sklearn\\model_selection\\_split.py:725: UserWarning: The least populated class in y has only 1 members, which is less than n_splits=5.\n",
      "  warnings.warn(\n",
      "c:\\Users\\ahove\\anaconda3\\Lib\\site-packages\\sklearn\\model_selection\\_split.py:725: UserWarning: The least populated class in y has only 1 members, which is less than n_splits=5.\n",
      "  warnings.warn(\n",
      "c:\\Users\\ahove\\anaconda3\\Lib\\site-packages\\sklearn\\model_selection\\_split.py:725: UserWarning: The least populated class in y has only 1 members, which is less than n_splits=5.\n",
      "  warnings.warn(\n"
     ]
    },
    {
     "name": "stdout",
     "output_type": "stream",
     "text": [
      "Best hyperparameters for Logistic Regression:\n",
      "LogisticRegression(C=0.001)\n",
      "\n",
      "Best hyperparameters for KNN:\n",
      "KNeighborsClassifier(n_neighbors=9)\n",
      "\n",
      "Best hyperparameters for Decision Tree:\n",
      "DecisionTreeClassifier(max_depth=5)\n",
      "\n",
      "Best hyperparameters for SVM:\n",
      "SVC(C=0.001, gamma=0.001)\n",
      "\n"
     ]
    }
   ],
   "source": [
    "# Create a list of model names and models\n",
    "model_names = ['Logistic Regression', 'KNN', 'Decision Tree', 'SVM']\n",
    "models = [\n",
    "    LogisticRegression(),\n",
    "    KNeighborsClassifier(),\n",
    "    DecisionTreeClassifier(),\n",
    "    SVC()\n",
    "]\n",
    "\n",
    "# Create a list of parameter grids for each model\n",
    "param_grids = [\n",
    "    {'C': [0.001, 0.01, 0.1, 1, 10]},\n",
    "    {'n_neighbors': [3, 5, 7, 9]},\n",
    "    {'max_depth': [None, 5, 10, 15]},\n",
    "    {'C': [0.001, 0.01, 0.1, 1, 10], 'gamma': [0.001, 0.01, 0.1, 1]}\n",
    "]\n",
    "\n",
    "# Perform grid search for each model\n",
    "best_models = []\n",
    "for i, model in enumerate(models):\n",
    "    grid_search = GridSearchCV(model, param_grids[i], cv=5)\n",
    "    grid_search.fit(X_train, y_train)\n",
    "    best_models.append(grid_search.best_estimator_)\n",
    "\n",
    "# Print the best hyperparameters for each model\n",
    "for i, model_name in enumerate(model_names):\n",
    "    print(f\"Best hyperparameters for {model_name}:\")\n",
    "    print(best_models[i])\n",
    "    print()\n"
   ]
  },
  {
   "cell_type": "markdown",
   "metadata": {},
   "source": [
    "##### Checking to see if this hyperparameter could lead to overfitting"
   ]
  },
  {
   "cell_type": "code",
   "execution_count": 220,
   "metadata": {},
   "outputs": [
    {
     "name": "stdout",
     "output_type": "stream",
     "text": [
      "Train Accuracy: 0.06277056277056277\n",
      "Test Accuracy: 0.0707070707070707\n",
      "The model is not overfitted.\n"
     ]
    }
   ],
   "source": [
    "# Create an instance of the LogisticRegression model with 'C' parameter set to 0.001\n",
    "logreg = LogisticRegression(C=0.001)\n",
    "\n",
    "# Fit the model to the training data\n",
    "logreg.fit(X_train, y_train)\n",
    "\n",
    "# Calculate the accuracy scores for training and test data\n",
    "train_accuracy = logreg.score(X_train, y_train)\n",
    "test_accuracy = logreg.score(X_test, y_test)\n",
    "\n",
    "# Print the train and test results\n",
    "print(\"Train Accuracy:\", train_accuracy)\n",
    "print(\"Test Accuracy:\", test_accuracy)\n",
    "\n",
    "# Determine if the model is overfitted\n",
    "if train_accuracy > test_accuracy:\n",
    "    print(\"The model is overfitted.\")\n",
    "else:\n",
    "    print(\"The model is not overfitted.\")\n",
    "\n",
    "    \n"
   ]
  },
  {
   "cell_type": "markdown",
   "metadata": {},
   "source": [
    "Checking the performance metrics for each model and creating a dataframe to show the results"
   ]
  },
  {
   "cell_type": "code",
   "execution_count": 223,
   "metadata": {},
   "outputs": [
    {
     "name": "stderr",
     "output_type": "stream",
     "text": [
      "c:\\Users\\ahove\\anaconda3\\Lib\\site-packages\\sklearn\\metrics\\_classification.py:1469: UndefinedMetricWarning: Precision is ill-defined and being set to 0.0 in labels with no predicted samples. Use `zero_division` parameter to control this behavior.\n",
      "  _warn_prf(average, modifier, msg_start, len(result))\n",
      "c:\\Users\\ahove\\anaconda3\\Lib\\site-packages\\sklearn\\metrics\\_classification.py:1469: UndefinedMetricWarning: Precision is ill-defined and being set to 0.0 in labels with no predicted samples. Use `zero_division` parameter to control this behavior.\n",
      "  _warn_prf(average, modifier, msg_start, len(result))\n",
      "c:\\Users\\ahove\\anaconda3\\Lib\\site-packages\\sklearn\\metrics\\_classification.py:1469: UndefinedMetricWarning: Recall is ill-defined and being set to 0.0 in labels with no true samples. Use `zero_division` parameter to control this behavior.\n",
      "  _warn_prf(average, modifier, msg_start, len(result))\n",
      "c:\\Users\\ahove\\anaconda3\\Lib\\site-packages\\sklearn\\metrics\\_classification.py:1469: UndefinedMetricWarning: Precision is ill-defined and being set to 0.0 in labels with no predicted samples. Use `zero_division` parameter to control this behavior.\n",
      "  _warn_prf(average, modifier, msg_start, len(result))\n",
      "c:\\Users\\ahove\\anaconda3\\Lib\\site-packages\\sklearn\\metrics\\_classification.py:1469: UndefinedMetricWarning: Recall is ill-defined and being set to 0.0 in labels with no true samples. Use `zero_division` parameter to control this behavior.\n",
      "  _warn_prf(average, modifier, msg_start, len(result))\n"
     ]
    },
    {
     "name": "stdout",
     "output_type": "stream",
     "text": [
      "                     Accuracy  Precision    Recall  F1-score\n",
      "Model                                                       \n",
      "Logistic Regression  0.070707   0.000397  0.005618  0.000742\n",
      "KNN                  0.055556   0.000739  0.003588  0.001225\n",
      "Decision Tree        0.055556   0.001642  0.003871  0.002306\n",
      "SVM                  0.070707   0.000397  0.005618  0.000742\n"
     ]
    },
    {
     "name": "stderr",
     "output_type": "stream",
     "text": [
      "c:\\Users\\ahove\\anaconda3\\Lib\\site-packages\\sklearn\\metrics\\_classification.py:1469: UndefinedMetricWarning: Precision is ill-defined and being set to 0.0 in labels with no predicted samples. Use `zero_division` parameter to control this behavior.\n",
      "  _warn_prf(average, modifier, msg_start, len(result))\n"
     ]
    }
   ],
   "source": [
    "# Create empty lists to store the metrics\n",
    "accuracy_scores = []\n",
    "precision_scores = []\n",
    "recall_scores = []\n",
    "f1_scores = []\n",
    "\n",
    "# Iterate over each model\n",
    "for model in best_models:\n",
    "    # Make predictions on the test data\n",
    "    y_pred = model.predict(X_test)\n",
    "    \n",
    "    # Calculate the metrics\n",
    "    accuracy = accuracy_score(y_test, y_pred)\n",
    "    precision = precision_score(y_test, y_pred, average='macro')\n",
    "    recall = recall_score(y_test, y_pred, average='macro' )\n",
    "    f1 = f1_score(y_test, y_pred, average='macro')\n",
    "    \n",
    "    # Append the scores to the lists\n",
    "    accuracy_scores.append(accuracy)\n",
    "    precision_scores.append(precision)\n",
    "    recall_scores.append(recall)\n",
    "    f1_scores.append(f1)\n",
    "\n",
    "# Create a dataframe to store the metrics\n",
    "metrics_df = pd.DataFrame({'Model': model_names, 'Accuracy': accuracy_scores, 'Precision': precision_scores, 'Recall': recall_scores, 'F1-score': f1_scores})\n",
    "metrics_df = metrics_df.set_index('Model')\n",
    "\n",
    "# Print the dataframe\n",
    "print(metrics_df)\n",
    "\n"
   ]
  },
  {
   "cell_type": "markdown",
   "metadata": {},
   "source": [
    "Plotting to show the visualization.  The black dotted line indicates best model to use."
   ]
  },
  {
   "cell_type": "code",
   "execution_count": 225,
   "metadata": {},
   "outputs": [
    {
     "data": {
      "image/png": "[encoded data removed]",
      "text/plain": [
       "<Figure size 640x480 with 1 Axes>"
      ]
     },
     "metadata": {},
     "output_type": "display_data"
    },
    {
     "name": "stdout",
     "output_type": "stream",
     "text": [
      "Best Model: Logistic Regression\n"
     ]
    }
   ],
   "source": [
    "# Plot the metric scores using a line graph\n",
    "sns.lineplot(data=metrics_df)\n",
    "\n",
    "# Highlight the best model\n",
    "best_model = metrics_df.idxmax().values[0]\n",
    "plt.axvline(x=best_model, color='black', linestyle='--')\n",
    "\n",
    "# Set the labels and title\n",
    "plt.xlabel('Model')\n",
    "plt.ylabel('Score')\n",
    "plt.title('Model Metric Scores')\n",
    "\n",
    "# Show the plot\n",
    "plt.show()\n",
    "\n",
    "# Print out Best Model\n",
    "print(f\"Best Model: {best_model}\")\n",
    "\n"
   ]
  },
  {
   "cell_type": "markdown",
   "metadata": {},
   "source": [
    "## CRISP-DM PHASE 6: DEPLOYMENT"
   ]
  },
  {
   "cell_type": "markdown",
   "metadata": {},
   "source": [
    "Make predictions based on Logistic Regression Model"
   ]
  },
  {
   "cell_type": "code",
   "execution_count": 228,
   "metadata": {},
   "outputs": [],
   "source": [
    "# Create an instance of the LogisticRegression model with the best hyperparameters\n",
    "logreg_best = LogisticRegression(C=0.001)\n",
    "\n",
    "# Fit the model to the training data\n",
    "logreg_best.fit(X_train, y_train)\n",
    "\n",
    "# Make predictions on the test data\n",
    "y_pred = logreg_best.predict(X_test)\n",
    "\n"
   ]
  },
  {
   "cell_type": "code",
   "execution_count": 230,
   "metadata": {},
   "outputs": [
    {
     "name": "stderr",
     "output_type": "stream",
     "text": [
      "c:\\Users\\ahove\\anaconda3\\Lib\\site-packages\\sklearn\\base.py:457: UserWarning: X has feature names, but LogisticRegression was fitted without feature names\n",
      "  warnings.warn(\n"
     ]
    },
    {
     "data": {
      "image/png": "[encoded data removed]",
      "text/plain": [
       "<Figure size 1000x600 with 1 Axes>"
      ]
     },
     "metadata": {},
     "output_type": "display_data"
    }
   ],
   "source": [
    "# Make predictions on the '1yr_emp' column\n",
    "y_pred_1yr_emp = logreg_best.predict(X[['cohort_years', 'dod_occ_code', 'industry']])\n",
    "\n",
    "# Plot the predictions\n",
    "plt.figure(figsize=(10, 6))\n",
    "plt.plot(y_pred_1yr_emp, label='Predictions')\n",
    "plt.plot(y, label='Actual')\n",
    "plt.title('1yr_emp Predictions')\n",
    "plt.xlabel('Sample')\n",
    "plt.ylabel('1yr_emp')\n",
    "plt.legend()\n",
    "plt.show()\n",
    "\n",
    "\n"
   ]
  },
  {
   "cell_type": "markdown",
   "metadata": {},
   "source": [
    "#### Conclusion\n",
    "\n",
    "### Only using the selected data to show number of veterans employeed the first year based on the DoD Occupational Code to Industry is not showing a good turn out. I will have to look into concatenating the other datasets to determine a possible prediction"
   ]
  }
 ],
 "metadata": {
  "kernelspec": {
   "display_name": "Python 3 (ipykernel)",
   "language": "python",
   "name": "python3"
  },
  "language_info": {
   "codemirror_mode": {
    "name": "ipython",
    "version": 3
   },
   "file_extension": ".py",
   "mimetype": "text/x-python",
   "name": "python",
   "nbconvert_exporter": "python",
   "pygments_lexer": "ipython3",
   "version": "3.11.4"
  },
  "widgets": {
   "application/vnd.jupyter.widget-state+json": {
    "state": {},
    "version_major": 2,
    "version_minor": 0
   }
  }
 },
 "nbformat": 4,
 "nbformat_minor": 4
}
